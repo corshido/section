{
 "cells": [
  {
   "cell_type": "markdown",
   "metadata": {},
   "source": [
    "<p dir=\"RTL\" style=\"text-align:right;\">\n",
    "    <strong>הדפסת ערכים ל-</strong>\n",
    "    <strong>shell</strong>\n",
    "    <strong>: הפונקציה </strong>\n",
    "    <strong>print</strong>\n",
    "</p>\n",
    "<p dir=\"RTL\" style=\"text-align:right;\">\n",
    "    ההוראה האחרונה בתכנית הספרים מפעילה את הפונקציה print. הנה ההוראה במלואה:\n",
    "</p>\n",
    "<p dir=\"RTL\" style=\"text-align:right;\">\n",
    "    הפונקציה print מבצעת פעולה שכיחה בתכניות פייתון: הדפסת ערכים ל-shell. נעיין\n",
    "    בדוגמה זו לשימוש בה:\n",
    "</p>\n",
    "<p>\n",
    "    print(3)\n",
    "</p>\n",
    "<p dir=\"RTL\" style=\"text-align:right;\">\n",
    "    לפנינו זימון פונקציה (function call). רכיבים של זימון פונקציה הם תמיד אלה:\n",
    "    שם הפונקציה, לידו סוגר עגול פותח וסוגר עגול סוגר, ובתוך הסוגריים: ערך. הערך\n",
    "    בתוך הסוגריים – כאן: המספר השלם החיובי 3 – יודפס ל-shell.\n",
    "</p>"
   ]
  }
 ],
 "metadata": {
  "kernelspec": {
   "display_name": "Python 3",
   "language": "python",
   "name": "python3"
  },
  "language_info": {
   "codemirror_mode": {
    "name": "ipython",
    "version": 3
   },
   "file_extension": ".py",
   "mimetype": "text/x-python",
   "name": "python",
   "nbconvert_exporter": "python",
   "pygments_lexer": "ipython3",
   "version": "3.7.1"
  }
 },
 "nbformat": 4,
 "nbformat_minor": 2
}
